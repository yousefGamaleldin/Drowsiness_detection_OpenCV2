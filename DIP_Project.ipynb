{
 "cells": [
  {
   "cell_type": "markdown",
   "metadata": {},
   "source": [
    "# Drwosy Driver Detection"
   ]
  },
  {
   "cell_type": "code",
   "execution_count": null,
   "metadata": {},
   "outputs": [],
   "source": [
    "from scipy.spatial import distance as dist\n",
    "from imutils.video import VideoStream\n",
    "from imutils import face_utils\n",
    "from threading import Thread\n",
    "import numpy as np\n",
    "import playsound\n",
    "import imutils\n",
    "import dlib\n",
    "import cv2"
   ]
  },
  {
   "cell_type": "code",
   "execution_count": null,
   "metadata": {},
   "outputs": [],
   "source": [
    "modelPath = \"/Users/yousefgamaleldin/NU/3rd Year/2nd Semster/Image Processing/DIP Project/shape_predictor_68_face_landmarks.dat\"\n",
    "sound_path = \"/Users/yousefgamaleldin/NU/3rd%20Year/2nd%20Semster/Image%20Processing/DIP%20Project/Alarm.wav\""
   ]
  },
  {
   "cell_type": "code",
   "execution_count": null,
   "metadata": {},
   "outputs": [],
   "source": [
    "def eyeAr(eye):\n",
    "    # compute the euclidean distances between the two sets of vertical eye landmarks\n",
    "    V1= dist.euclidean(eye[1], eye[5])\n",
    "    V2= dist.euclidean(eye[2], eye[4])\n",
    "    # compute the euclidean distance between the horizontal eye landmark\n",
    "    H= dist.euclidean(eye[0], eye[3])\n",
    "    # return the eye aspect ratio\n",
    "    EAR= ((V1+V2)/(2*H))\n",
    "    return EAR"
   ]
  },
  {
   "cell_type": "code",
   "execution_count": null,
   "metadata": {},
   "outputs": [],
   "source": [
    "def sound_alarm(path):\n",
    "    # play an alarm sound\n",
    "    playsound.playsound(path)"
   ]
  },
  {
   "cell_type": "code",
   "execution_count": null,
   "metadata": {},
   "outputs": [],
   "source": [
    "# initialize dlib's face detector\n",
    "# the facial landmark predictor\n",
    "fdetector = dlib.get_frontal_face_detector()\n",
    "predictor = dlib.shape_predictor(modelPath)"
   ]
  },
  {
   "cell_type": "code",
   "execution_count": null,
   "metadata": {},
   "outputs": [],
   "source": [
    "# define two constants, one for the eye aspect ratio to indicate\n",
    "# blink and then a second constant for the number of consecutive\n",
    "# frames the eye must be below the threshold for to set off the\n",
    "# alarm\n",
    "EAR_thresh = 0.25\n",
    "Frames_Thresh = 20\n",
    "# initialize the frame counter as well as a boolean used to\n",
    "# indicate if the alarm is going off\n",
    "FC = 0\n",
    "Alarm_ON = False\n",
    "\n",
    "# grab the indexes of the facial landmarks for the left and\n",
    "# right eye, respectively\n",
    "(lStart, lEnd) = face_utils.FACIAL_LANDMARKS_IDXS[\"left_eye\"]\n",
    "(rStart, rEnd) = face_utils.FACIAL_LANDMARKS_IDXS[\"right_eye\"]"
   ]
  },
  {
   "cell_type": "code",
   "execution_count": null,
   "metadata": {},
   "outputs": [],
   "source": [
    "# start the video stream thread\n",
    "vs = VideoStream(src=0).start()\n",
    "\n",
    "\n",
    "# loop over frames from the video stream\n",
    "while True:\n",
    "    # grab the thread of video streaming and read it in the frame\n",
    "    frame = vs.read()\n",
    "    \n",
    "    # Resize the video frame\n",
    "    #frame = imutils.resize(frame, width=800)\n",
    "    \n",
    "    #Convert it to greyscale\n",
    "    gray = cv2.cvtColor(frame, cv2.COLOR_BGR2GRAY)\n",
    "    \n",
    "    # detect faces in the grayscale frame\n",
    "    faces = fdetector(gray)\n",
    "\n",
    "    \n",
    "    # loop over the face detections\n",
    "    for faces in faces:\n",
    "        \n",
    "        # determine the facial landmarks for the face region\n",
    "        shape = predictor(gray, faces)\n",
    "        \n",
    "        # convert the facial landmark (x, y)-coordinates to a NumPy array\n",
    "        shape = face_utils.shape_to_np(shape)\n",
    "        \n",
    "        # Extract the left and right eye indexes\n",
    "        leftEye = shape[lStart:lEnd]\n",
    "        rightEye = shape[rStart:rEnd]\n",
    "        \n",
    "        #Use the indexes to compute the eye aspect ratio for both eyes\n",
    "        leftEAR = eyeAr(leftEye)\n",
    "        rightEAR = eyeAr(rightEye)\n",
    "        \n",
    "        # get the average the eye aspect ratio together for both eyes\n",
    "        EAR = (leftEAR + rightEAR) / 2.0\n",
    "        \n",
    "        # compute the convex hull for the left and right eye, then\n",
    "        leftEyeHull = cv2.convexHull(leftEye)\n",
    "        rightEyeHull = cv2.convexHull(rightEye)\n",
    "        \n",
    "        # visualize each of the eyes\n",
    "        cv2.drawContours(frame, [leftEyeHull], -1, (0, 255, 0), 1)\n",
    "        cv2.drawContours(frame, [rightEyeHull], -1, (0, 255, 0), 1)\n",
    "        \n",
    "        \n",
    "        # check to see if the eye aspect ratio is below the pre-defined threshold\n",
    "        if EAR < EAR_thresh:\n",
    "            FC += 1\n",
    "            \n",
    "            # And if so, increment the blink frame counter\n",
    "            if FC >= Frames_Thresh:\n",
    "                \n",
    "                # if the alarm is off, turn it on\n",
    "                if not Alarm_ON:\n",
    "                    Alarm_ON = True\n",
    "                    \n",
    "                    # check to see if an alarm file was supplied,\n",
    "                    # and if so, start a thread to have the alarm\n",
    "                    # sound played in the background\n",
    "                    sound = Thread(target=sound_alarm(sound_path))\n",
    "                    sound.start()\n",
    "                # draw an alarm on the frame\n",
    "                cv2.putText(frame, \"DROWSINESS ALERT!!\", (10, 30),\n",
    "                    cv2.FONT_HERSHEY_SIMPLEX, 0.9, (0, 0, 255), 2)\n",
    "        # otherwise, the eye aspect ratio is not below the pre-defined threshold \n",
    "        #so reset the counter and alarm\n",
    "        else:\n",
    "            FC = 0\n",
    "            Alarm_ON = False\n",
    "\n",
    "        # draw the computed eye aspect ratio on the frame to help\n",
    "        # with debugging and setting the correct eye aspect ratio\n",
    "        # thresholds and frame counters\n",
    "        cv2.putText(frame, \"EAR: {:.2f}\".format(EAR), (300, 30),\n",
    "            cv2.FONT_HERSHEY_SIMPLEX, 0.8, (0, 255, 0), 2)\n",
    " \n",
    "    # show the frame\n",
    "    cv2.imshow(\"Frame\", frame)\n",
    "    key = cv2.waitKey(1)"
   ]
  },
  {
   "cell_type": "code",
   "execution_count": null,
   "metadata": {},
   "outputs": [],
   "source": []
  }
 ],
 "metadata": {
  "kernelspec": {
   "display_name": "Python 3",
   "language": "python",
   "name": "python3"
  },
  "language_info": {
   "codemirror_mode": {
    "name": "ipython",
    "version": 3
   },
   "file_extension": ".py",
   "mimetype": "text/x-python",
   "name": "python",
   "nbconvert_exporter": "python",
   "pygments_lexer": "ipython3",
   "version": "3.7.9"
  }
 },
 "nbformat": 4,
 "nbformat_minor": 4
}
